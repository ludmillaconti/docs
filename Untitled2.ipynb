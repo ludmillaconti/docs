{
  "nbformat": 4,
  "nbformat_minor": 0,
  "metadata": {
    "colab": {
      "name": "Untitled2.ipynb",
      "provenance": [],
      "authorship_tag": "ABX9TyNTCkRN+QgceHQHcnIgwXTa",
      "include_colab_link": true
    },
    "kernelspec": {
      "name": "python3",
      "display_name": "Python 3"
    },
    "accelerator": "GPU"
  },
  "cells": [
    {
      "cell_type": "markdown",
      "metadata": {
        "id": "view-in-github",
        "colab_type": "text"
      },
      "source": [
        "<a href=\"https://colab.research.google.com/github/ludmillaconti/docs/blob/master/Untitled2.ipynb\" target=\"_parent\"><img src=\"https://colab.research.google.com/assets/colab-badge.svg\" alt=\"Open In Colab\"/></a>"
      ]
    },
    {
      "cell_type": "code",
      "metadata": {
        "colab": {
          "base_uri": "https://localhost:8080/"
        },
        "id": "vUAxBEwzL_TA",
        "outputId": "55e3f70a-7869-4df5-ebef-b06307b5a29d"
      },
      "source": [
        "# palavra reservadas:\n",
        "# - assert = se a condição é verdaeira\n",
        "# - def = cria uma função\n",
        "\n",
        "3>3"
      ],
      "execution_count": 2,
      "outputs": [
        {
          "output_type": "execute_result",
          "data": {
            "text/plain": [
              "False"
            ]
          },
          "metadata": {
            "tags": []
          },
          "execution_count": 2
        }
      ]
    },
    {
      "cell_type": "code",
      "metadata": {
        "id": "VISuucdwNxn8"
      },
      "source": [
        "assert 3==3\n",
        "\n",
        "def soma(x,y):\n",
        "  return(x+y)\n",
        "\n",
        "assert soma(2,2)==4\n"
      ],
      "execution_count": 8,
      "outputs": []
    },
    {
      "cell_type": "code",
      "metadata": {
        "id": "xfBd3ZvZOvOb"
      },
      "source": [
        "def soma(x,y):\n",
        "  return x+y\n",
        "\n",
        "def sub(x,y):\n",
        "  return x-y\n",
        "\n",
        "def mul(x,y):\n",
        "  return x*y\n",
        "\n",
        "assert\n",
        "\n",
        "assert 3==3\n",
        "\n",
        "def soma(x,y):\n",
        "  return(x+y)\n",
        "\n",
        "assert soma(2,2)==4"
      ],
      "execution_count": null,
      "outputs": []
    }
  ]
}